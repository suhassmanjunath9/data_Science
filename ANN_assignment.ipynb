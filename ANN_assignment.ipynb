{
  "nbformat": 4,
  "nbformat_minor": 0,
  "metadata": {
    "colab": {
      "provenance": []
    },
    "kernelspec": {
      "name": "python3",
      "display_name": "Python 3"
    },
    "language_info": {
      "name": "python"
    }
  },
  "cells": [
    {
      "cell_type": "code",
      "source": [
        "import numpy as np\n",
        "import matplotlib.pyplot as plt\n",
        "\n",
        "# --- 1. Define the Data ---\n",
        "def create_letter_patterns():\n",
        "    \"\"\"Defines binary patterns for letters A, B, and C.\"\"\"\n",
        "    # Each letter is a 5x6 grid, represented as a 1D array of 30 pixels.\n",
        "    # 0 = white, 1 = black\n",
        "    patterns = {\n",
        "        'A': np.array([0, 1, 1, 1, 0,\n",
        "                       1, 0, 0, 0, 1,\n",
        "                       1, 1, 1, 1, 1,\n",
        "                       1, 0, 0, 0, 1,\n",
        "                       1, 0, 0, 0, 1,\n",
        "                       0, 0, 0, 0, 0]),\n",
        "        'B': np.array([1, 1, 1, 1, 0,\n",
        "                       1, 0, 0, 0, 1,\n",
        "                       1, 1, 1, 1, 0,\n",
        "                       1, 0, 0, 0, 1,\n",
        "                       1, 0, 0, 0, 1,\n",
        "                       1, 1, 1, 1, 0]),\n",
        "        'C': np.array([0, 1, 1, 1, 0,\n",
        "                       1, 0, 0, 0, 0,\n",
        "                       1, 0, 0, 0, 0,\n",
        "                       1, 0, 0, 0, 0,\n",
        "                       1, 0, 0, 0, 0,\n",
        "                       0, 1, 1, 1, 0])\n",
        "    }\n",
        "    return patterns\n",
        "\n",
        "# Prepare the training data and labels\n",
        "patterns = create_letter_patterns()\n",
        "X = np.array([patterns['A'], patterns['B'], patterns['C']]).T  # Transpose to get 30x3\n",
        "y = np.array([[1, 0, 0], [0, 1, 0], [0, 0, 1]]).T  # One-hot encoded, 3x3\n"
      ],
      "metadata": {
        "id": "JxPLCLCc5-97"
      },
      "execution_count": 19,
      "outputs": []
    },
    {
      "cell_type": "code",
      "source": [
        "# --- 2. Initialize the Network ---\n",
        "# Network architecture\n",
        "input_size = 30\n",
        "hidden_size = 15\n",
        "output_size = 3\n",
        "\n",
        "# Initialize weights and biases\n",
        "np.random.seed(42)  # for reproducibility\n",
        "W1 = np.random.randn(hidden_size, input_size) * 0.01\n",
        "b1 = np.zeros((hidden_size, 1))\n",
        "W2 = np.random.randn(output_size, hidden_size) * 0.01\n",
        "b2 = np.zeros((output_size, 1))\n",
        "\n"
      ],
      "metadata": {
        "id": "lu1p2Sav-_nM"
      },
      "execution_count": 21,
      "outputs": []
    },
    {
      "cell_type": "code",
      "source": [
        "# --- 3. Implement Core Functions ---\n",
        "def sigmoid(x):\n",
        "    return 1 / (1 + np.exp(-x))\n",
        "\n",
        "def sigmoid_derivative(x):\n",
        "    return x * (1 - x)\n",
        "\n",
        "# --- 4. Training Loop ---\n",
        "epochs = 50000\n",
        "learning_rate = 0.5\n",
        "loss_history = []\n",
        "accuracy_history = []\n",
        "\n",
        "for i in range(epochs):\n",
        "    # Feedforward Propagation\n",
        "    # Layer 1 (Hidden Layer)\n",
        "    Z1 = np.dot(W1, X) + b1\n",
        "    A1 = sigmoid(Z1)\n",
        "\n",
        "    # Layer 2 (Output Layer)\n",
        "    Z2 = np.dot(W2, A1) + b2\n",
        "    A2 = sigmoid(Z2)\n",
        "\n",
        "    # Backpropagation\n",
        "    # Output Layer\n",
        "    dZ2 = A2 - y  # Derivative of loss w.r.t Z2 (for MSE)\n",
        "    dW2 = (1 / output_size) * np.dot(dZ2, A1.T)\n",
        "    db2 = (1 / output_size) * np.sum(dZ2, axis=1, keepdims=True)\n",
        "\n",
        "    # Hidden Layer\n",
        "    dA1 = np.dot(W2.T, dZ2)\n",
        "    dZ1 = dA1 * sigmoid_derivative(A1)\n",
        "    dW1 = (1 / hidden_size) * np.dot(dZ1, X.T)\n",
        "    db1 = (1 / hidden_size) * np.sum(dZ1, axis=1, keepdims=True)\n",
        "\n",
        "    # Update Weights and Biases\n",
        "    W1 -= learning_rate * dW1\n",
        "    b1 -= learning_rate * db1\n",
        "    W2 -= learning_rate * dW2\n",
        "    b2 -= learning_rate * db2\n",
        "\n",
        "    # Calculate Loss and Accuracy\n",
        "    if i % 1000 == 0:\n",
        "        loss = np.mean(np.square(A2 - y))\n",
        "        loss_history.append(loss)\n",
        "\n",
        "        predictions = np.argmax(A2, axis=0)\n",
        "        true_labels = np.argmax(y, axis=0)\n",
        "        accuracy = np.mean(predictions == true_labels) * 100\n",
        "        accuracy_history.append(accuracy)\n",
        "\n",
        "        print(f'Epoch {i}, Loss: {loss:.4f}, Accuracy: {accuracy:.2f}%')\n",
        "\n"
      ],
      "metadata": {
        "colab": {
          "base_uri": "https://localhost:8080/"
        },
        "id": "bxkQ7FqB_Kw7",
        "outputId": "1ccacf6e-cade-44fd-c8d8-aca56c8192ff"
      },
      "execution_count": 22,
      "outputs": [
        {
          "output_type": "stream",
          "name": "stdout",
          "text": [
            "Epoch 0, Loss: 0.2500, Accuracy: 33.33%\n",
            "Epoch 1000, Loss: 0.0000, Accuracy: 100.00%\n",
            "Epoch 2000, Loss: 0.0000, Accuracy: 100.00%\n",
            "Epoch 3000, Loss: 0.0000, Accuracy: 100.00%\n",
            "Epoch 4000, Loss: 0.0000, Accuracy: 100.00%\n",
            "Epoch 5000, Loss: 0.0000, Accuracy: 100.00%\n",
            "Epoch 6000, Loss: 0.0000, Accuracy: 100.00%\n",
            "Epoch 7000, Loss: 0.0000, Accuracy: 100.00%\n",
            "Epoch 8000, Loss: 0.0000, Accuracy: 100.00%\n",
            "Epoch 9000, Loss: 0.0000, Accuracy: 100.00%\n",
            "Epoch 10000, Loss: 0.0000, Accuracy: 100.00%\n",
            "Epoch 11000, Loss: 0.0000, Accuracy: 100.00%\n",
            "Epoch 12000, Loss: 0.0000, Accuracy: 100.00%\n",
            "Epoch 13000, Loss: 0.0000, Accuracy: 100.00%\n",
            "Epoch 14000, Loss: 0.0000, Accuracy: 100.00%\n",
            "Epoch 15000, Loss: 0.0000, Accuracy: 100.00%\n",
            "Epoch 16000, Loss: 0.0000, Accuracy: 100.00%\n",
            "Epoch 17000, Loss: 0.0000, Accuracy: 100.00%\n",
            "Epoch 18000, Loss: 0.0000, Accuracy: 100.00%\n",
            "Epoch 19000, Loss: 0.0000, Accuracy: 100.00%\n",
            "Epoch 20000, Loss: 0.0000, Accuracy: 100.00%\n",
            "Epoch 21000, Loss: 0.0000, Accuracy: 100.00%\n",
            "Epoch 22000, Loss: 0.0000, Accuracy: 100.00%\n",
            "Epoch 23000, Loss: 0.0000, Accuracy: 100.00%\n",
            "Epoch 24000, Loss: 0.0000, Accuracy: 100.00%\n",
            "Epoch 25000, Loss: 0.0000, Accuracy: 100.00%\n",
            "Epoch 26000, Loss: 0.0000, Accuracy: 100.00%\n",
            "Epoch 27000, Loss: 0.0000, Accuracy: 100.00%\n",
            "Epoch 28000, Loss: 0.0000, Accuracy: 100.00%\n",
            "Epoch 29000, Loss: 0.0000, Accuracy: 100.00%\n",
            "Epoch 30000, Loss: 0.0000, Accuracy: 100.00%\n",
            "Epoch 31000, Loss: 0.0000, Accuracy: 100.00%\n",
            "Epoch 32000, Loss: 0.0000, Accuracy: 100.00%\n",
            "Epoch 33000, Loss: 0.0000, Accuracy: 100.00%\n",
            "Epoch 34000, Loss: 0.0000, Accuracy: 100.00%\n",
            "Epoch 35000, Loss: 0.0000, Accuracy: 100.00%\n",
            "Epoch 36000, Loss: 0.0000, Accuracy: 100.00%\n",
            "Epoch 37000, Loss: 0.0000, Accuracy: 100.00%\n",
            "Epoch 38000, Loss: 0.0000, Accuracy: 100.00%\n",
            "Epoch 39000, Loss: 0.0000, Accuracy: 100.00%\n",
            "Epoch 40000, Loss: 0.0000, Accuracy: 100.00%\n",
            "Epoch 41000, Loss: 0.0000, Accuracy: 100.00%\n",
            "Epoch 42000, Loss: 0.0000, Accuracy: 100.00%\n",
            "Epoch 43000, Loss: 0.0000, Accuracy: 100.00%\n",
            "Epoch 44000, Loss: 0.0000, Accuracy: 100.00%\n",
            "Epoch 45000, Loss: 0.0000, Accuracy: 100.00%\n",
            "Epoch 46000, Loss: 0.0000, Accuracy: 100.00%\n",
            "Epoch 47000, Loss: 0.0000, Accuracy: 100.00%\n",
            "Epoch 48000, Loss: 0.0000, Accuracy: 100.00%\n",
            "Epoch 49000, Loss: 0.0000, Accuracy: 100.00%\n"
          ]
        }
      ]
    },
    {
      "cell_type": "code",
      "source": [
        "# --- 5. Visualization and Prediction ---\n",
        "print(\"\\nTraining complete!\")\n",
        "\n",
        "# Plot Loss\n",
        "plt.figure(figsize=(12, 5))\n",
        "plt.subplot(1, 2, 1)\n",
        "plt.plot(loss_history)\n",
        "plt.title('Loss over Epochs')\n",
        "plt.xlabel('Epochs (x1000)')\n",
        "plt.ylabel('Loss')\n",
        "\n",
        "# Plot Accuracy\n",
        "plt.subplot(1, 2, 2)\n",
        "plt.plot(accuracy_history)\n",
        "plt.title('Accuracy over Epochs')\n",
        "plt.xlabel('Epochs (x1000)')\n",
        "plt.ylabel('Accuracy (%)')\n",
        "plt.tight_layout()\n",
        "plt.show()\n",
        "\n"
      ],
      "metadata": {
        "colab": {
          "base_uri": "https://localhost:8080/",
          "height": 542
        },
        "id": "FPuWR-iJ_gm7",
        "outputId": "1588b760-03ec-4632-bd8c-90e725fe797b"
      },
      "execution_count": 24,
      "outputs": [
        {
          "output_type": "stream",
          "name": "stdout",
          "text": [
            "\n",
            "Training complete!\n"
          ]
        },
        {
          "output_type": "display_data",
          "data": {
            "text/plain": [
              "<Figure size 1200x500 with 2 Axes>"
            ],
            "image/png": "[encoded data removed]"
          },
          "metadata": {}
        }
      ]
    },
    {
      "cell_type": "code",
      "source": [
        "# --- Test the trained model ---\n",
        "def predict_and_display(input_data, W1, b1, W2, b2):\n",
        "    # Feedforward to get prediction\n",
        "    Z1 = np.dot(W1, input_data.reshape(-1, 1)) + b1\n",
        "    A1 = sigmoid(Z1)\n",
        "    Z2 = np.dot(W2, A1) + b2\n",
        "    A2 = sigmoid(Z2)\n",
        "\n",
        "    # Get the predicted class\n",
        "    prediction = np.argmax(A2, axis=0)\n",
        "    letters = ['A', 'B', 'C']\n",
        "    predicted_letter = letters[prediction[0]]\n",
        "\n",
        "    # Display the input image\n",
        "    input_image = input_data.reshape(6, 5)\n",
        "    plt.imshow(input_image, cmap='gray')\n",
        "    plt.title(f'Predicted: {predicted_letter}')\n",
        "    plt.axis('off')\n",
        "    plt.show()\n",
        "\n",
        "    print(f\"Prediction Probabilities: {A2.T[0]}\")\n",
        "    print(f\"Predicted class index: {prediction[0]} -> {predicted_letter}\")\n",
        "\n",
        "# Test with a pattern for 'A'\n",
        "print(\"\\nTesting the model with letter 'A'...\")\n",
        "predict_and_display(patterns['A'], W1, b1, W2, b2)\n",
        "\n",
        "# Test with a pattern for 'B'\n",
        "print(\"\\nTesting the model with letter 'B'...\")\n",
        "predict_and_display(patterns['B'], W1, b1, W2, b2)\n",
        "\n",
        "# Test with a pattern for 'C'\n",
        "print(\"\\nTesting the model with letter 'C'...\")\n",
        "predict_and_display(patterns['C'], W1, b1, W2, b2)"
      ],
      "metadata": {
        "colab": {
          "base_uri": "https://localhost:8080/",
          "height": 1000
        },
        "id": "-nUQhj65_jA8",
        "outputId": "3a6c3cf6-9eda-4a5a-9738-838b29e9709d"
      },
      "execution_count": 25,
      "outputs": [
        {
          "output_type": "stream",
          "name": "stdout",
          "text": [
            "\n",
            "Testing the model with letter 'A'...\n"
          ]
        },
        {
          "output_type": "display_data",
          "data": {
            "text/plain": [
              "<Figure size 640x480 with 1 Axes>"
            ],
            "image/png": "[encoded data removed]"
          },
          "metadata": {}
        },
        {
          "output_type": "stream",
          "name": "stdout",
          "text": [
            "Prediction Probabilities: [9.99953874e-01 3.48051679e-05 1.83861686e-05]\n",
            "Predicted class index: 0 -> A\n",
            "\n",
            "Testing the model with letter 'B'...\n"
          ]
        },
        {
          "output_type": "display_data",
          "data": {
            "text/plain": [
              "<Figure size 640x480 with 1 Axes>"
            ],
            "image/png": "[encoded data removed]"
          },
          "metadata": {}
        },
        {
          "output_type": "stream",
          "name": "stdout",
          "text": [
            "Prediction Probabilities: [3.76787499e-05 9.99947337e-01 2.76112842e-05]\n",
            "Predicted class index: 1 -> B\n",
            "\n",
            "Testing the model with letter 'C'...\n"
          ]
        },
        {
          "output_type": "display_data",
          "data": {
            "text/plain": [
              "<Figure size 640x480 with 1 Axes>"
            ],
            "image/png": "[encoded data removed]"
          },
          "metadata": {}
        },
        {
          "output_type": "stream",
          "name": "stdout",
          "text": [
            "Prediction Probabilities: [1.61830754e-05 2.84249872e-05 9.99963649e-01]\n",
            "Predicted class index: 2 -> C\n"
          ]
        }
      ]
    },
    {
      "cell_type": "code",
      "source": [],
      "metadata": {
        "id": "9ITuWOFx_yUn"
      },
      "execution_count": null,
      "outputs": []
    }
  ]
}