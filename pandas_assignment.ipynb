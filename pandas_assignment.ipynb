{
  "nbformat": 4,
  "nbformat_minor": 0,
  "metadata": {
    "colab": {
      "provenance": []
    },
    "kernelspec": {
      "name": "python3",
      "display_name": "Python 3"
    },
    "language_info": {
      "name": "python"
    }
  },
  "cells": [
    {
      "cell_type": "code",
      "source": [
        "# 5. Pandas DataFrame Operations.\n",
        "data = {\n",
        "    'Name': ['Alice', 'Bob', 'Charlie', 'Diana', 'Eve'],\n",
        "    'Age': [24, 27, 22, 32, 29],\n",
        "    'Department': ['HR', 'Finance', 'IT', 'Marketing', 'HR'],\n",
        "    'Salary': [45000, 54000, 50000, 62000, 47000]\n",
        "}\n",
        "\n",
        "# Create a DataFrame from the dictionary.\n",
        "df = pd.DataFrame(data)\n",
        "\n",
        "# a. Print the first five rows of the DataFrame.\n",
        "# The .head() method returns the first n rows.\n",
        "print(\"DataFrame (first 5 rows):\")\n",
        "print(df.head(5))\n",
        "print(\"-\" * 30)\n",
        "\n",
        "# b. Get the summary statistics of the 'Age' and 'Salary' columns.\n",
        "# The .describe() method generates descriptive statistics.\n",
        "print(\"Summary statistics for 'Age' and 'Salary' columns:\")\n",
        "print(df[['Age', 'Salary']].describe())\n",
        "print(\"-\" * 30)\n",
        "\n",
        "# c. Calculate the average salary of employees in the 'HR' department.\n",
        "hr_salary = df[df['Department'] == 'HR']['Salary'].mean()\n",
        "print(\"Average salary of employees in the 'HR' department:\")\n",
        "print(f\"${hr_salary:.2f}\")\n",
        "# adding bonus\n",
        "df['Bonus'] = df['Salary'] * 0.10\n",
        "print(\"DataFrame with new 'Bonus' column:\")\n",
        "print(df)\n",
        "print(\"-\" * 30)\n",
        "#  Filter the DataFrame to show employees aged between 25 and 30.\n",
        "employees_25_30 = df[(df['Age'] >= 25) & (df['Age'] <= 30)]\n",
        "print(\"Employees aged between 25 and 30:\")\n",
        "print(employees_25_30)\n",
        "print(\"-\" * 30)\n",
        "\n",
        "#  Group the data by 'Department' and calculate the average salary for each department..\n",
        "avg_salary_by_dept = df.groupby('Department')['Salary'].mean()\n",
        "print(\"Average salary per department:\")\n",
        "print(avg_salary_by_dept)\n",
        "print(\"-\" * 30)\n",
        "\n",
        "#  Sort the DataFrame by 'Salary' in ascending order and save the result to a new CSV file.\n",
        "sorted_df = df.sort_values(by='Salary', ascending=True)\n",
        "sorted_df.to_csv('sorted_employees.csv', index=False)\n",
        "print(\"DataFrame sorted by 'Salary' (ascending):\")\n",
        "print(sorted_df)\n",
        "print(\"Sorted DataFrame saved to 'sorted_employees.csv'\")\n"
      ],
      "metadata": {
        "colab": {
          "base_uri": "https://localhost:8080/"
        },
        "id": "2xOSo6R8n_cx",
        "outputId": "d39a7950-d4ad-460d-cec3-f907b76b5b6a"
      },
      "execution_count": 13,
      "outputs": [
        {
          "output_type": "stream",
          "name": "stdout",
          "text": [
            "DataFrame (first 5 rows):\n",
            "      Name  Age Department  Salary\n",
            "0    Alice   24         HR   45000\n",
            "1      Bob   27    Finance   54000\n",
            "2  Charlie   22         IT   50000\n",
            "3    Diana   32  Marketing   62000\n",
            "4      Eve   29         HR   47000\n",
            "------------------------------\n",
            "Summary statistics for 'Age' and 'Salary' columns:\n",
            "             Age        Salary\n",
            "count   5.000000      5.000000\n",
            "mean   26.800000  51600.000000\n",
            "std     3.962323   6730.527468\n",
            "min    22.000000  45000.000000\n",
            "25%    24.000000  47000.000000\n",
            "50%    27.000000  50000.000000\n",
            "75%    29.000000  54000.000000\n",
            "max    32.000000  62000.000000\n",
            "------------------------------\n",
            "Average salary of employees in the 'HR' department:\n",
            "$46000.00\n",
            "DataFrame with new 'Bonus' column:\n",
            "      Name  Age Department  Salary   Bonus\n",
            "0    Alice   24         HR   45000  4500.0\n",
            "1      Bob   27    Finance   54000  5400.0\n",
            "2  Charlie   22         IT   50000  5000.0\n",
            "3    Diana   32  Marketing   62000  6200.0\n",
            "4      Eve   29         HR   47000  4700.0\n",
            "------------------------------\n",
            "Employees aged between 25 and 30:\n",
            "  Name  Age Department  Salary   Bonus\n",
            "1  Bob   27    Finance   54000  5400.0\n",
            "4  Eve   29         HR   47000  4700.0\n",
            "------------------------------\n",
            "Average salary per department:\n",
            "Department\n",
            "Finance      54000.0\n",
            "HR           46000.0\n",
            "IT           50000.0\n",
            "Marketing    62000.0\n",
            "Name: Salary, dtype: float64\n",
            "------------------------------\n",
            "DataFrame sorted by 'Salary' (ascending):\n",
            "      Name  Age Department  Salary   Bonus\n",
            "0    Alice   24         HR   45000  4500.0\n",
            "4      Eve   29         HR   47000  4700.0\n",
            "2  Charlie   22         IT   50000  5000.0\n",
            "1      Bob   27    Finance   54000  5400.0\n",
            "3    Diana   32  Marketing   62000  6200.0\n",
            "Sorted DataFrame saved to 'sorted_employees.csv'\n"
          ]
        }
      ]
    }
  ]
}