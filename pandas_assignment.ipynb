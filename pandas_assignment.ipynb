{
  "cells": [
    {
      "cell_type": "code",
      "source": [
        "import numpy as np\n",
        "\n",
        "# 1. Create a 1D NumPy array with integers from 1 to 20.\n",
        "# The np.arange() function creates an array with a sequence of numbers.\n",
        "# The second argument is exclusive, so we use 21 to include 20.\n",
        "array = np.arange(1, 21)\n",
        "print(\"Original 1D array:\")\n",
        "print(array)\n",
        "print(\"-\" * 30)\n",
        "\n",
        "# a. Calculate the sum, mean, median, and standard deviation.\n",
        "\n",
        "# Calculate the sum of all elements in the array.\n",
        "array_sum = np.sum(array)\n",
        "\n",
        "# Calculate the mean (average) of the elements.\n",
        "array_mean = np.mean(array)\n",
        "\n",
        "# Calculate the median of the elements.\n",
        "array_median = np.median(array)\n",
        "\n",
        "# Calculate the standard deviation of the elements.\n",
        "array_std = np.std(array)\n",
        "\n",
        "# Print the calculated statistics.\n",
        "print(\"Calculated Statistics:\")\n",
        "print(f\"Sum: {array_sum}\")\n",
        "print(f\"Mean: {array_mean}\")\n",
        "print(f\"Median: {array_median}\")\n",
        "print(f\"Standard Deviation: {array_std}\")\n",
        "print(\"-\" * 30)"
      ],
      "metadata": {
        "colab": {
          "base_uri": "https://localhost:8080/"
        },
        "id": "OLKZx_FPiWhB",
        "outputId": "671226f7-9cd3-41e9-a69a-d7d46ea8fb5a"
      },
      "execution_count": 1,
      "outputs": [
        {
          "output_type": "stream",
          "name": "stdout",
          "text": [
            "Original 1D array:\n",
            "[ 1  2  3  4  5  6  7  8  9 10 11 12 13 14 15 16 17 18 19 20]\n",
            "------------------------------\n",
            "Calculated Statistics:\n",
            "Sum: 210\n",
            "Mean: 10.5\n",
            "Median: 10.5\n",
            "Standard Deviation: 5.766281297335398\n",
            "------------------------------\n"
          ]
        }
      ]
    },
    {
      "cell_type": "code",
      "source": [
        " # b. Find the indices of elements greater than 10 in the array.\n",
        "# The np.where() function returns the indices where the condition is True.\n",
        "# The result is a tuple, so we take the first element to get the array of indices.\n",
        "indices = np.where(array > 10)\n",
        "\n",
        "# Print the indices and the corresponding elements.\n",
        "print(\"Indices of elements greater than 10:\")\n",
        "print(indices[0]) # Print the array of indices\n",
        "print(\"Elements at these indices:\")\n",
        "print(array[indices]) # Print the elements themselves"
      ],
      "metadata": {
        "colab": {
          "base_uri": "https://localhost:8080/"
        },
        "id": "mTrVFkzTjC7S",
        "outputId": "2a068ce3-7eba-48a0-bd91-c3c9eccd1541"
      },
      "execution_count": 3,
      "outputs": [
        {
          "output_type": "stream",
          "name": "stdout",
          "text": [
            "Indices of elements greater than 10:\n",
            "[10 11 12 13 14 15 16 17 18 19]\n",
            "Elements at these indices:\n",
            "[11 12 13 14 15 16 17 18 19 20]\n"
          ]
        }
      ]
    },
    {
      "cell_type": "code",
      "source": [
        "# 2. Create a 2D NumPy array of shape 4x4 with integers from 1 to 16.\n",
        "# We first create a 1D array with np.arange(1, 17) and then reshape it.\n",
        "array_2d = np.arange(1, 17).reshape(4, 4)\n",
        "\n",
        "# a. Print the array.\n",
        "print(\"2D Array (4x4):\")\n",
        "print(array_2d)\n",
        "print(\"-\" * 30)\n",
        "\n",
        "# b. Find the transpose of the array.\n",
        "array_2d_transpose = array_2d.T\n",
        "print(\"Transpose of the 2D Array:\")\n",
        "print(array_2d_transpose)\n",
        "print(\"-\" * 30)\n",
        "\n",
        "# Axis 1 refers to rows (horizontal).\n",
        "row_sums = np.sum(array_2d, axis=1)\n",
        "\n",
        "# Axis 0 refers to columns (vertical).\n",
        "column_sums = np.sum(array_2d, axis=0)\n",
        "\n",
        "print(\"Row-wise sums:\")\n",
        "print(row_sums)\n",
        "print(\"-\" * 30)\n",
        "print(\"Column-wise sums:\")\n",
        "print(column_sums)\n"
      ],
      "metadata": {
        "colab": {
          "base_uri": "https://localhost:8080/"
        },
        "id": "YKmZEyZTj1LQ",
        "outputId": "94fb1b03-6bcb-4a9c-9138-0e765df9c984"
      },
      "execution_count": 5,
      "outputs": [
        {
          "output_type": "stream",
          "name": "stdout",
          "text": [
            "2D Array (4x4):\n",
            "[[ 1  2  3  4]\n",
            " [ 5  6  7  8]\n",
            " [ 9 10 11 12]\n",
            " [13 14 15 16]]\n",
            "------------------------------\n",
            "Transpose of the 2D Array:\n",
            "[[ 1  5  9 13]\n",
            " [ 2  6 10 14]\n",
            " [ 3  7 11 15]\n",
            " [ 4  8 12 16]]\n",
            "------------------------------\n",
            "Row-wise sums:\n",
            "[10 26 42 58]\n",
            "------------------------------\n",
            "Column-wise sums:\n",
            "[28 32 36 40]\n"
          ]
        }
      ]
    },
    {
      "cell_type": "code",
      "source": [
        " #Create two 3x3 arrays filled with random integers between 1 and 20.\n",
        "# np.random.randint(low, high, size) generates an array of random integers.\n",
        "array_a = np.random.randint(1, 21, size=(3, 3))\n",
        "array_b = np.random.randint(1, 21, size=(3, 3))\n",
        "\n",
        "print(\"Array A (random 3x3):\")\n",
        "print(array_a)\n",
        "print(\"-\" * 30)\n",
        "print(\"Array B (random 3x3):\")\n",
        "print(array_b)\n",
        "print(\"=\" * 30)\n",
        "\n",
        "# a. Perform element-wise addition, subtraction, and multiplication.\n",
        "\n",
        "addition_result = array_a + array_b\n",
        "subtraction_result = array_a - array_b\n",
        "multiplication_result = array_a * array_b\n",
        "\n",
        "print(\"Element-wise Addition:\")\n",
        "print(addition_result)\n",
        "print(\"-\" * 30)\n",
        "\n",
        "print(\"Element-wise Subtraction:\")\n",
        "print(subtraction_result)\n",
        "print(\"-\" * 30)\n",
        "\n",
        "print(\"Element-wise Multiplication:\")\n",
        "print(multiplication_result)\n",
        "print(\"=\" * 30)\n",
        "\n",
        "# b. Compute the dot product of the two arrays.\n",
        "# The np.dot() function or the @ operator can be used.\n",
        "dot_product = np.dot(array_a, array_b)\n",
        "\n",
        "print(\"Dot Product of Array A and Array B:\")\n",
        "print(dot_product)\n"
      ],
      "metadata": {
        "colab": {
          "base_uri": "https://localhost:8080/"
        },
        "id": "2xR5H-XslX8m",
        "outputId": "ce4df3c4-6ac0-4be9-8ff3-675cb639f4aa"
      },
      "execution_count": 6,
      "outputs": [
        {
          "output_type": "stream",
          "name": "stdout",
          "text": [
            "Array A (random 3x3):\n",
            "[[20  8 12]\n",
            " [ 2 17 17]\n",
            " [16  9  3]]\n",
            "------------------------------\n",
            "Array B (random 3x3):\n",
            "[[10 13 10]\n",
            " [13 14  1]\n",
            " [14 14  6]]\n",
            "==============================\n",
            "Element-wise Addition:\n",
            "[[30 21 22]\n",
            " [15 31 18]\n",
            " [30 23  9]]\n",
            "------------------------------\n",
            "Element-wise Subtraction:\n",
            "[[ 10  -5   2]\n",
            " [-11   3  16]\n",
            " [  2  -5  -3]]\n",
            "------------------------------\n",
            "Element-wise Multiplication:\n",
            "[[200 104 120]\n",
            " [ 26 238  17]\n",
            " [224 126  18]]\n",
            "==============================\n",
            "Dot Product of Array A and Array B:\n",
            "[[472 540 280]\n",
            " [479 502 139]\n",
            " [319 376 187]]\n"
          ]
        }
      ]
    },
    {
      "cell_type": "code",
      "source": [
        " #4. Reshaping and Slicing Arrays.\n",
        "# Create a 1D array of size 12.\n",
        "array_1d_12 = np.arange(1, 13)\n",
        "print(\"1D Array of size 12:\")\n",
        "print(array_1d_12)\n",
        "print(\"-\" * 30)\n",
        "\n",
        "# Reshape the 1D array into a 3x4 2D array.\n",
        "reshaped_array = array_1d_12.reshape(3, 4)\n",
        "print(\"Reshaped 2D Array (3x4):\")\n",
        "print(reshaped_array)\n",
        "print(\"-\" * 30)\n",
        "\n",
        "# Slice the first two rows and last two columns.\n",
        "sliced_array = reshaped_array[0:2, 2:4]\n",
        "print(\"Sliced Array (first two rows and last two columns):\")\n",
        "print(sliced_array)\n"
      ],
      "metadata": {
        "colab": {
          "base_uri": "https://localhost:8080/"
        },
        "id": "05ClOXIql4y3",
        "outputId": "22dcc12b-8cc0-450c-c499-b5a3cf16baaa"
      },
      "execution_count": 7,
      "outputs": [
        {
          "output_type": "stream",
          "name": "stdout",
          "text": [
            "1D Array of size 12:\n",
            "[ 1  2  3  4  5  6  7  8  9 10 11 12]\n",
            "------------------------------\n",
            "Reshaped 2D Array (3x4):\n",
            "[[ 1  2  3  4]\n",
            " [ 5  6  7  8]\n",
            " [ 9 10 11 12]]\n",
            "------------------------------\n",
            "Sliced Array (first two rows and last two columns):\n",
            "[[3 4]\n",
            " [7 8]]\n"
          ]
        }
      ]
    }
  ],
  "metadata": {
    "colab": {
      "provenance": []
    },
    "kernelspec": {
      "display_name": "Python 3",
      "name": "python3"
    }
  },
  "nbformat": 4,
  "nbformat_minor": 0
}